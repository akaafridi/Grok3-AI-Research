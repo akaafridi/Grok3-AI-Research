{
  "nbformat": 4,
  "nbformat_minor": 0,
  "metadata": {
    "colab": {
      "provenance": []
    },
    "kernelspec": {
      "name": "python3",
      "display_name": "Python 3"
    },
    "language_info": {
      "name": "python"
    }
  },
  "cells": [
    {
      "cell_type": "code",
      "execution_count": null,
      "metadata": {
        "colab": {
          "base_uri": "https://localhost:8080/",
          "height": 383
        },
        "id": "yz-Kcm31Q_EO",
        "outputId": "9c2090df-c337-4440-b498-6a487b15417d"
      },
      "outputs": [
        {
          "output_type": "error",
          "ename": "ModuleNotFoundError",
          "evalue": "No module named 'z3'",
          "traceback": [
            "\u001b[0;31m---------------------------------------------------------------------------\u001b[0m",
            "\u001b[0;31mModuleNotFoundError\u001b[0m                       Traceback (most recent call last)",
            "\u001b[0;32m<ipython-input-1-cedcdbc5e338>\u001b[0m in \u001b[0;36m<cell line: 0>\u001b[0;34m()\u001b[0m\n\u001b[1;32m      1\u001b[0m \u001b[0;32mimport\u001b[0m \u001b[0mtime\u001b[0m\u001b[0;34m\u001b[0m\u001b[0;34m\u001b[0m\u001b[0m\n\u001b[1;32m      2\u001b[0m \u001b[0;32mimport\u001b[0m \u001b[0mos\u001b[0m\u001b[0;34m\u001b[0m\u001b[0;34m\u001b[0m\u001b[0m\n\u001b[0;32m----> 3\u001b[0;31m \u001b[0;32mfrom\u001b[0m \u001b[0mz3\u001b[0m \u001b[0;32mimport\u001b[0m \u001b[0mReal\u001b[0m\u001b[0;34m,\u001b[0m \u001b[0mSolver\u001b[0m\u001b[0;34m,\u001b[0m \u001b[0msat\u001b[0m\u001b[0;34m\u001b[0m\u001b[0;34m\u001b[0m\u001b[0m\n\u001b[0m\u001b[1;32m      4\u001b[0m \u001b[0;34m\u001b[0m\u001b[0m\n\u001b[1;32m      5\u001b[0m \u001b[0;31m# Create folder if not exists\u001b[0m\u001b[0;34m\u001b[0m\u001b[0;34m\u001b[0m\u001b[0m\n",
            "\u001b[0;31mModuleNotFoundError\u001b[0m: No module named 'z3'",
            "",
            "\u001b[0;31m---------------------------------------------------------------------------\u001b[0;32m\nNOTE: If your import is failing due to a missing package, you can\nmanually install dependencies using either !pip or !apt.\n\nTo view examples of installing some common dependencies, click the\n\"Open Examples\" button below.\n\u001b[0;31m---------------------------------------------------------------------------\u001b[0m\n"
          ],
          "errorDetails": {
            "actions": [
              {
                "action": "open_url",
                "actionText": "Open Examples",
                "url": "/notebooks/snippets/importing_libraries.ipynb"
              }
            ]
          }
        }
      ],
      "source": [
        "import time\n",
        "import os\n",
        "from z3 import Real, Solver, sat\n",
        "\n",
        "# Create folder if not exists\n",
        "os.makedirs(\"z3_verification\", exist_ok=True)\n",
        "\n",
        "# Simulate Safety Check using Z3\n",
        "def safety_check(force_value):\n",
        "    grip_force = Real('grip_force')\n",
        "    s = Solver()\n",
        "    s.add(grip_force == force_value)\n",
        "    s.add(grip_force < 5.0)  # Safety constraint\n",
        "    return s.check() == sat\n",
        "\n",
        "# Benchmark Verification Latency\n",
        "start = time.time()\n",
        "safe_action = safety_check(3.5)  # Example: grip force 3.5N\n",
        "latency_safe = (time.time() - start) * 1000  # ms\n",
        "\n",
        "start = time.time()\n",
        "unsafe_action = safety_check(6.2)  # Example: grip force 6.2N\n",
        "latency_unsafe = (time.time() - start) * 1000  # ms\n",
        "\n",
        "# Print results\n",
        "print(\"=== Z3 Safety Verification Results ===\")\n",
        "print(f\"Safe Action (3.5N): {'Allowed' if safe_action else 'Blocked'} (Latency: {latency_safe:.3f} ms)\")\n",
        "print(f\"Unsafe Action (6.2N): {'Allowed' if unsafe_action else 'Blocked'} (Latency: {latency_unsafe:.3f} ms)\")\n",
        "\n",
        "# Save results\n",
        "result_text = f\"\"\"\n",
        "=== Z3 Safety Verification Results ===\n",
        "\n",
        "Safety Constraint: grip_force < 5.0N\n",
        "\n",
        "Safe Action (3.5N): {'Allowed' if safe_action else 'Blocked'} (Latency: {latency_safe:.3f} ms)\n",
        "Unsafe Action (6.2N): {'Allowed' if unsafe_action else 'Blocked'} (Latency: {latency_unsafe:.3f} ms)\n",
        "\"\"\"\n",
        "\n",
        "with open(\"z3_verification/z3_safety_verification_results.txt\", \"w\") as f:\n",
        "    f.write(result_text)\n",
        "\n",
        "print(\"\\nResults saved to: z3_verification/z3_safety_verification_results.txt\")\n",
        "\n"
      ]
    },
    {
      "cell_type": "code",
      "source": [
        "!pip install z3-solver\n"
      ],
      "metadata": {
        "colab": {
          "base_uri": "https://localhost:8080/"
        },
        "id": "Vzju4BqwSjgO",
        "outputId": "b85599ac-080a-4abd-e9eb-ac998d47134a"
      },
      "execution_count": null,
      "outputs": [
        {
          "output_type": "stream",
          "name": "stdout",
          "text": [
            "Collecting z3-solver\n",
            "  Downloading z3_solver-4.14.1.0-py3-none-manylinux_2_17_x86_64.manylinux2014_x86_64.whl.metadata (602 bytes)\n",
            "Downloading z3_solver-4.14.1.0-py3-none-manylinux_2_17_x86_64.manylinux2014_x86_64.whl (29.5 MB)\n",
            "\u001b[2K   \u001b[90m━━━━━━━━━━━━━━━━━━━━━━━━━━━━━━━━━━━━━━━━\u001b[0m \u001b[32m29.5/29.5 MB\u001b[0m \u001b[31m65.3 MB/s\u001b[0m eta \u001b[36m0:00:00\u001b[0m\n",
            "\u001b[?25hInstalling collected packages: z3-solver\n",
            "Successfully installed z3-solver-4.14.1.0\n"
          ]
        }
      ]
    },
    {
      "cell_type": "code",
      "source": [
        "!pip install z3-solver\n"
      ],
      "metadata": {
        "colab": {
          "base_uri": "https://localhost:8080/"
        },
        "id": "SBpc_l-XSpEH",
        "outputId": "9de778e2-72fa-4723-c82f-c9e74d3a8f43"
      },
      "execution_count": null,
      "outputs": [
        {
          "output_type": "stream",
          "name": "stdout",
          "text": [
            "Requirement already satisfied: z3-solver in /usr/local/lib/python3.11/dist-packages (4.14.1.0)\n"
          ]
        }
      ]
    },
    {
      "cell_type": "code",
      "source": [
        "import time\n",
        "import os\n",
        "from z3 import Real, Solver, sat\n",
        "\n",
        "# Create folder if not exists\n",
        "os.makedirs(\"z3_verification\", exist_ok=True)\n",
        "\n",
        "# Simulate Safety Check using Z3\n",
        "def safety_check(force_value):\n",
        "    grip_force = Real('grip_force')\n",
        "    s = Solver()\n",
        "    s.add(grip_force == force_value)\n",
        "    s.add(grip_force < 5.0)  # Safety constraint\n",
        "    return s.check() == sat\n",
        "\n",
        "# Benchmark Verification Latency\n",
        "start = time.time()\n",
        "safe_action = safety_check(3.5)  # Example: grip force 3.5N\n",
        "latency_safe = (time.time() - start) * 1000  # ms\n",
        "\n",
        "start = time.time()\n",
        "unsafe_action = safety_check(6.2)  # Example: grip force 6.2N\n",
        "latency_unsafe = (time.time() - start) * 1000  # ms\n",
        "\n",
        "# Print results\n",
        "print(\"=== Z3 Safety Verification Results ===\")\n",
        "print(f\"Safe Action (3.5N): {'Allowed' if safe_action else 'Blocked'} (Latency: {latency_safe:.3f} ms)\")\n",
        "print(f\"Unsafe Action (6.2N): {'Allowed' if unsafe_action else 'Blocked'} (Latency: {latency_unsafe:.3f} ms)\")\n",
        "\n",
        "# Save results\n",
        "result_text = f\"\"\"\n",
        "=== Z3 Safety Verification Results ===\n",
        "\n",
        "Safety Constraint: grip_force < 5.0N\n",
        "\n",
        "Safe Action (3.5N): {'Allowed' if safe_action else 'Blocked'} (Latency: {latency_safe:.3f} ms)\n",
        "Unsafe Action (6.2N): {'Allowed' if unsafe_action else 'Blocked'} (Latency: {latency_unsafe:.3f} ms)\n",
        "\"\"\"\n",
        "\n",
        "with open(\"z3_verification/z3_safety_verification_results.txt\", \"w\") as f:\n",
        "    f.write(result_text)\n",
        "\n",
        "print(\"\\nResults saved to: z3_verification/z3_safety_verification_results.txt\")\n"
      ],
      "metadata": {
        "colab": {
          "base_uri": "https://localhost:8080/"
        },
        "id": "n6Te0K97Syiv",
        "outputId": "41534188-50b5-4eb5-e109-3541c1c91c27"
      },
      "execution_count": null,
      "outputs": [
        {
          "output_type": "stream",
          "name": "stdout",
          "text": [
            "=== Z3 Safety Verification Results ===\n",
            "Safe Action (3.5N): Allowed (Latency: 34.386 ms)\n",
            "Unsafe Action (6.2N): Blocked (Latency: 2.355 ms)\n",
            "\n",
            "Results saved to: z3_verification/z3_safety_verification_results.txt\n"
          ]
        }
      ]
    }
  ]
}